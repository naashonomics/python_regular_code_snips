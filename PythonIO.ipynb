{
 "cells": [
  {
   "cell_type": "markdown",
   "metadata": {},
   "source": [
    "#File Meta Data"
   ]
  },
  {
   "cell_type": "code",
   "execution_count": 8,
   "metadata": {},
   "outputs": [
    {
     "name": "stdout",
     "output_type": "stream",
     "text": [
      "os.stat_result(st_mode=33206, st_ino=3377699722071761, st_dev=617167159, st_nlink=1, st_uid=0, st_gid=0, st_size=20063075, st_atime=1511810321, st_mtime=1511810324, st_ctime=1511810321)\n",
      "\n"
     ]
    }
   ],
   "source": [
    "import os\n",
    "ZInfo = os.stat(\"sp500_joined_closes.csv\")\n",
    "print(ZInfo);print()\n"
   ]
  },
  {
   "cell_type": "code",
   "execution_count": 15,
   "metadata": {},
   "outputs": [
    {
     "name": "stdout",
     "output_type": "stream",
     "text": [
      "st_atime 1511810321.5692382\n",
      "st_ctime 1511810321.5692382\n",
      "st_dev 617167159\n",
      "st_file_attributes 32\n",
      "st_gid 0\n",
      "st_ino 3377699722071761\n",
      "st_mode 0\n",
      "st_mtime 1511810324.2342937\n",
      "st_nlink 1\n",
      "st_size 20063075\n",
      "st_uid 0\n"
     ]
    }
   ],
   "source": [
    "#Access Time (POSIX ONLY())\n",
    "print(\"st_atime\",ZInfo.st_atime)\n",
    "#Change Time (POSIX & Windows)\n",
    "print(\"st_ctime\",ZInfo.st_ctime)\n",
    "# Device Identifer \n",
    "print(\"st_dev\",ZInfo.st_dev)\n",
    "#Windows informaation (\"Get File Information by Handle)\n",
    "print(\"st_file_attributes\",ZInfo.st_file_attributes)\n",
    "print(\"st_gid\",ZInfo.st_gid)\n",
    "#Inode Number \n",
    "print(\"st_ino\",ZInfo.st_ino)\n",
    "print(\"st_mode\",ZInfo.st_gid)\n",
    "#file mdoification time (PSOXIX)\n",
    "print(\"st_mtime\",ZInfo.st_mtime)\n",
    "#Hard links to file \n",
    "print(\"st_nlink\",ZInfo.st_nlink)\n",
    "#File size in bytes\n",
    "print(\"st_size\",ZInfo.st_size)\n",
    "#Owners User Id (POSIX Only) \n",
    "print(\"st_uid\",ZInfo.st_uid)\n"
   ]
  },
  {
   "cell_type": "code",
   "execution_count": 19,
   "metadata": {},
   "outputs": [
    {
     "name": "stdout",
     "output_type": "stream",
     "text": [
      "EST time.struct_time(tm_year=2017, tm_mon=11, tm_mday=27, tm_hour=11, tm_min=18, tm_sec=41, tm_wday=0, tm_yday=331, tm_isdst=0)\n",
      "GMT time.struct_time(tm_year=2017, tm_mon=11, tm_mday=27, tm_hour=19, tm_min=18, tm_sec=41, tm_wday=0, tm_yday=331, tm_isdst=0)\n"
     ]
    }
   ],
   "source": [
    "import time\n",
    "print(\"EST\",time.localtime(ZInfo.st_ctime))\n",
    "print(\"GMT\",time.gmtime(ZInfo.st_ctime))\n"
   ]
  },
  {
   "cell_type": "code",
   "execution_count": 20,
   "metadata": {
    "collapsed": true
   },
   "outputs": [],
   "source": [
    "#Index Binary "
   ]
  },
  {
   "cell_type": "code",
   "execution_count": 24,
   "metadata": {},
   "outputs": [
    {
     "name": "stdout",
     "output_type": "stream",
     "text": [
      "b'World Three'\n",
      "b'Word One'\n",
      "b'Word Two'\n"
     ]
    }
   ],
   "source": [
    "import io\n",
    "zRecords= {\n",
    "    \"Word One\": None,\n",
    "    \"Word Two\": None,\n",
    "    \"World Three\": None\n",
    "}\n",
    "zFile =\"WordData.txt\"\n",
    "#Write Data After tell()\n",
    "zWrite = io.FileIO(zFile,'w')\n",
    "for zRec in zRecords.keys():\n",
    "    zRecords[zRec] = zWrite.tell()\n",
    "    zWrite.write(bytes(zRec,'ascii'))\n",
    "zWrite.close()\n",
    "#seek and read\n",
    "zReader=io.FileIO(zFile,'r')\n",
    "for zRec in zRecords.keys():\n",
    "    zReader.seek(zRecords[zRec])\n",
    "    print(zReader.read(len(zRec)))\n",
    "zReader.close()"
   ]
  },
  {
   "cell_type": "code",
   "execution_count": 27,
   "metadata": {},
   "outputs": [
    {
     "name": "stdout",
     "output_type": "stream",
     "text": [
      "input: Bitcoin Ethereum Litcoin Ripple Stellar ...\n",
      "Bitcoin\n",
      "Ethereum\n",
      "Litcoin\n",
      "Ripple\n",
      "Stellar\n",
      "...\n"
     ]
    }
   ],
   "source": [
    "#indexing human reable files\n",
    "import io\n",
    "zFileName=\"WordData.txt\"\n",
    "zText=\"Bitcoin Ethereum Litcoin Ripple Stellar ...\"\n",
    "zRecords =zText.split();\n",
    "print(\"input:\",zText)\n",
    "\n",
    "#Write the data After tell()\n",
    "zTells=[]\n",
    "zFile=open(zFileName,\"w\")\n",
    "for zSS,zRec in enumerate(zRecords):\n",
    "    zTells.append(zFile.tell())\n",
    "    zFile.write(zRec + \"\\r\\n\")\n",
    "zFile.close()\n",
    "\n",
    "#Seek tell() then read data line\n",
    "zFile=open(zFileName,\"r\")\n",
    "for zSS,zRec in enumerate(zRecords):\n",
    "    zFile.seek(zTells[zSS])\n",
    "    print(zFile.readline().rstrip())\n",
    "zFile.close()"
   ]
  },
  {
   "cell_type": "code",
   "execution_count": 30,
   "metadata": {},
   "outputs": [
    {
     "name": "stdout",
     "output_type": "stream",
     "text": [
      "Doctor Hopet12t15.98t\n",
      "Doctor Trumpt34t15.98t\n"
     ]
    }
   ],
   "source": [
    "#tab delmited Data\n",
    "import io\n",
    "zFileName=\"WordData.txt\"\n",
    "zRecords =[\n",
    "   [\"Doctor Hope\", 12,15.98],\n",
    "   [\"Doctor Trump\", 34,15.98] \n",
    "]\n",
    "zTells=[]\n",
    "zFile=open(zFileName,\"w\")\n",
    "for zSS,zRec in enumerate(zRecords):\n",
    "    zTells.append(zFile.tell())\n",
    "    for zData in zRec:\n",
    "        zFile.write(str(zData) + \"t\")\n",
    "    zFile.write(\"\\r\\n\")\n",
    "zFile.close()\n",
    "\n",
    "#Seek tell() then read data line\n",
    "zFile=open(zFileName,\"r\")\n",
    "for zSS,zRec in enumerate(zRecords):\n",
    "    zFile.seek(zTells[zSS])\n",
    "    print(zFile.readline().rstrip())\n",
    "zFile.close()"
   ]
  },
  {
   "cell_type": "code",
   "execution_count": 31,
   "metadata": {
    "scrolled": true
   },
   "outputs": [
    {
     "name": "stdout",
     "output_type": "stream",
     "text": [
      "CSV Dialect: excel-tab\n",
      "CSV Dialect: unix\n",
      "CSV Dialect: excel\n"
     ]
    }
   ],
   "source": [
    "#csv package\n",
    "import csv\n",
    "for zLang in csv.list_dialects():\n",
    "    print(\"CSV Dialect:\",zLang)"
   ]
  },
  {
   "cell_type": "code",
   "execution_count": 35,
   "metadata": {},
   "outputs": [
    {
     "name": "stdout",
     "output_type": "stream",
     "text": [
      "Read: ['One Night at call center', '123456', 'Three Mistakes of my Life', '123488']\n"
     ]
    }
   ],
   "source": [
    "zData=(\"One Night at call center\",123456 , \"Three Mistakes of my Life\", 123488)\n",
    "#Write\n",
    "zFile=open(\"booklist.csv\",\"w\")\n",
    "writer=csv.writer(zFile,dialect=\"excel\")\n",
    "writer.writerow(zData)\n",
    "zFile.close()\n",
    "#read\n",
    "zFile=open(\"booklist.csv\",\"r\")\n",
    "reader=csv.reader(zFile,dialect=\"excel\")\n",
    "for line in reader:\n",
    "    if len(line) !=0:\n",
    "        print(\"Read:\",line)\n",
    "zFile.close()"
   ]
  },
  {
   "cell_type": "code",
   "execution_count": null,
   "metadata": {
    "collapsed": true
   },
   "outputs": [],
   "source": []
  }
 ],
 "metadata": {
  "kernelspec": {
   "display_name": "Python [conda env:avinpy35]",
   "language": "python",
   "name": "conda-env-avinpy35-py"
  },
  "language_info": {
   "codemirror_mode": {
    "name": "ipython",
    "version": 3
   },
   "file_extension": ".py",
   "mimetype": "text/x-python",
   "name": "python",
   "nbconvert_exporter": "python",
   "pygments_lexer": "ipython3",
   "version": "3.5.4"
  }
 },
 "nbformat": 4,
 "nbformat_minor": 2
}
